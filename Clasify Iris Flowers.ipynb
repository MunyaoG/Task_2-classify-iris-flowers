{
 "cells": [
  {
   "cell_type": "markdown",
   "id": "dde21ef5-e449-4d0a-9fa4-dedaedbc0449",
   "metadata": {},
   "source": [
    "# CLASSIFY IRIS FLOWERS\n",
    "- Objective: To build a classification model to classify Iris flowers as either Setosa, Versicolor, or Virginica.\n",
    "- Data: Iris dataset from the scikit-learn datasets.\n",
    "- Features: sepal length, sepal width, petal length, and petal width."
   ]
  },
  {
   "cell_type": "markdown",
   "id": "ee70d87c-f6f5-4450-8a8d-fb1ddd72e15d",
   "metadata": {},
   "source": [
    "### 1. Import required modules"
   ]
  },
  {
   "cell_type": "code",
   "execution_count": 1,
   "id": "467c1dcf-05eb-4870-9705-89b4199f3528",
   "metadata": {},
   "outputs": [],
   "source": [
    "from sklearn.datasets import load_iris\n",
    "from sklearn.model_selection import train_test_split, RandomizedSearchCV\n",
    "from sklearn.tree import DecisionTreeClassifier\n",
    "from sklearn.linear_model import LogisticRegressionCV\n",
    "from sklearn.svm import SVC\n",
    "from sklearn.metrics import confusion_matrix, classification_report"
   ]
  },
  {
   "cell_type": "markdown",
   "id": "e36aaa7a-c250-4d99-b4a8-9c1fb1ae1efd",
   "metadata": {},
   "source": [
    "### 2. Import raw data"
   ]
  },
  {
   "cell_type": "code",
   "execution_count": 2,
   "id": "c04bcb64-294b-44ac-b8fa-af6a45ae52a6",
   "metadata": {},
   "outputs": [
    {
     "name": "stdout",
     "output_type": "stream",
     "text": [
      ".. _iris_dataset:\n",
      "\n",
      "Iris plants dataset\n",
      "--------------------\n",
      "\n",
      "**Data Set Characteristics:**\n",
      "\n",
      ":Number of Instances: 150 (50 in each of three classes)\n",
      ":Number of Attributes: 4 numeric, predictive attributes and the class\n",
      ":Attribute Information:\n",
      "    - sepal length in cm\n",
      "    - sepal width in cm\n",
      "    - petal length in cm\n",
      "    - petal width in cm\n",
      "    - class:\n",
      "            - Iris-Setosa\n",
      "            - Iris-Versicolour\n",
      "            - Iris-Virginica\n",
      "\n",
      ":Summary Statistics:\n",
      "\n",
      "============== ==== ==== ======= ===== ====================\n",
      "                Min  Max   Mean    SD   Class Correlation\n",
      "============== ==== ==== ======= ===== ====================\n",
      "sepal length:   4.3  7.9   5.84   0.83    0.7826\n",
      "sepal width:    2.0  4.4   3.05   0.43   -0.4194\n",
      "petal length:   1.0  6.9   3.76   1.76    0.9490  (high!)\n",
      "petal width:    0.1  2.5   1.20   0.76    0.9565  (high!)\n",
      "============== ==== ==== ======= ===== ====================\n",
      "\n",
      ":Missing Attribute Values: None\n",
      ":Class Distribution: 33.3% for each of 3 classes.\n",
      ":Creator: R.A. Fisher\n",
      ":Donor: Michael Marshall (MARSHALL%PLU@io.arc.nasa.gov)\n",
      ":Date: July, 1988\n",
      "\n",
      "The famous Iris database, first used by Sir R.A. Fisher. The dataset is taken\n",
      "from Fisher's paper. Note that it's the same as in R, but not as in the UCI\n",
      "Machine Learning Repository, which has two wrong data points.\n",
      "\n",
      "This is perhaps the best known database to be found in the\n",
      "pattern recognition literature.  Fisher's paper is a classic in the field and\n",
      "is referenced frequently to this day.  (See Duda & Hart, for example.)  The\n",
      "data set contains 3 classes of 50 instances each, where each class refers to a\n",
      "type of iris plant.  One class is linearly separable from the other 2; the\n",
      "latter are NOT linearly separable from each other.\n",
      "\n",
      "|details-start|\n",
      "**References**\n",
      "|details-split|\n",
      "\n",
      "- Fisher, R.A. \"The use of multiple measurements in taxonomic problems\"\n",
      "  Annual Eugenics, 7, Part II, 179-188 (1936); also in \"Contributions to\n",
      "  Mathematical Statistics\" (John Wiley, NY, 1950).\n",
      "- Duda, R.O., & Hart, P.E. (1973) Pattern Classification and Scene Analysis.\n",
      "  (Q327.D83) John Wiley & Sons.  ISBN 0-471-22361-1.  See page 218.\n",
      "- Dasarathy, B.V. (1980) \"Nosing Around the Neighborhood: A New System\n",
      "  Structure and Classification Rule for Recognition in Partially Exposed\n",
      "  Environments\".  IEEE Transactions on Pattern Analysis and Machine\n",
      "  Intelligence, Vol. PAMI-2, No. 1, 67-71.\n",
      "- Gates, G.W. (1972) \"The Reduced Nearest Neighbor Rule\".  IEEE Transactions\n",
      "  on Information Theory, May 1972, 431-433.\n",
      "- See also: 1988 MLC Proceedings, 54-64.  Cheeseman et al\"s AUTOCLASS II\n",
      "  conceptual clustering system finds 3 classes in the data.\n",
      "- Many, many more ...\n",
      "\n",
      "|details-end|\n",
      "\n"
     ]
    }
   ],
   "source": [
    "iris_data = load_iris()\n",
    "print(iris_data['DESCR'])"
   ]
  },
  {
   "cell_type": "markdown",
   "id": "b6529aa2-519b-40be-8122-091eb7d33c9c",
   "metadata": {},
   "source": [
    "### 3. Data preprocessing"
   ]
  },
  {
   "cell_type": "markdown",
   "id": "d688d206-4e2b-4ada-bde0-f0f837f53d99",
   "metadata": {},
   "source": [
    "#### - Assign X (features) and y (target) variables, then split into train and test sets"
   ]
  },
  {
   "cell_type": "code",
   "execution_count": 3,
   "id": "37cf4349-b28f-49e5-b843-ac73ac81220d",
   "metadata": {},
   "outputs": [],
   "source": [
    "X = iris_data['data']\n",
    "y = iris_data['target']\n",
    "X_train, X_test, y_train, y_test = train_test_split(X, y, test_size=0.5, random_state=0)"
   ]
  },
  {
   "cell_type": "markdown",
   "id": "0d66f9a7-1258-40e7-aa5e-c363125e6654",
   "metadata": {},
   "source": [
    "### 4. Model fitting and testing\n",
    "- Scoring metrics:\n",
    "    - Accuracy score\n",
    "    - F_1 score : a blend of precision and recall scores.\n",
    "#### 4.1 Decision tree classifier"
   ]
  },
  {
   "cell_type": "code",
   "execution_count": 4,
   "id": "27ccbf00-3317-458e-b472-7f83393f87b4",
   "metadata": {},
   "outputs": [
    {
     "data": {
      "text/plain": [
       "0.96"
      ]
     },
     "execution_count": 4,
     "metadata": {},
     "output_type": "execute_result"
    }
   ],
   "source": [
    "dtc = DecisionTreeClassifier()\n",
    "dtc.fit(X_train, y_train)\n",
    "dtc.score(X_test, y_test)"
   ]
  },
  {
   "cell_type": "code",
   "execution_count": 5,
   "id": "c02fd331-5ca8-4e2e-b416-0facc6f96ffd",
   "metadata": {},
   "outputs": [
    {
     "data": {
      "text/plain": [
       "array([[21,  0,  0],\n",
       "       [ 0, 29,  1],\n",
       "       [ 0,  2, 22]], dtype=int64)"
      ]
     },
     "execution_count": 5,
     "metadata": {},
     "output_type": "execute_result"
    }
   ],
   "source": [
    "confusion_matrix(y_true=y_test, y_pred=dtc.predict(X_test))"
   ]
  },
  {
   "cell_type": "code",
   "execution_count": 6,
   "id": "2a2f5220-4621-4f75-bf54-8097d37eb295",
   "metadata": {},
   "outputs": [
    {
     "name": "stdout",
     "output_type": "stream",
     "text": [
      "              precision    recall  f1-score   support\n",
      "\n",
      "           0       1.00      1.00      1.00        21\n",
      "           1       0.94      0.97      0.95        30\n",
      "           2       0.96      0.92      0.94        24\n",
      "\n",
      "    accuracy                           0.96        75\n",
      "   macro avg       0.96      0.96      0.96        75\n",
      "weighted avg       0.96      0.96      0.96        75\n",
      "\n"
     ]
    }
   ],
   "source": [
    "print(classification_report(y_true=y_test, y_pred=dtc.predict(X_test)))"
   ]
  },
  {
   "cell_type": "markdown",
   "id": "fa5acd7f-36db-4f40-9b14-c68a54b6a2bc",
   "metadata": {},
   "source": [
    "#### 4.2 Logistic regression with cross validation"
   ]
  },
  {
   "cell_type": "code",
   "execution_count": 7,
   "id": "c8c02c1c-71ca-413b-a2d2-21030efef64f",
   "metadata": {},
   "outputs": [
    {
     "data": {
      "text/plain": [
       "0.9333333333333333"
      ]
     },
     "execution_count": 7,
     "metadata": {},
     "output_type": "execute_result"
    }
   ],
   "source": [
    "lrcv = LogisticRegressionCV()\n",
    "lrcv.fit(X_train, y_train)\n",
    "lrcv.score(X_test, y_test)"
   ]
  },
  {
   "cell_type": "code",
   "execution_count": 8,
   "id": "a647098f-dff6-46b0-83e6-043992b78003",
   "metadata": {},
   "outputs": [
    {
     "data": {
      "text/plain": [
       "array([[21,  0,  0],\n",
       "       [ 0, 29,  1],\n",
       "       [ 0,  4, 20]], dtype=int64)"
      ]
     },
     "execution_count": 8,
     "metadata": {},
     "output_type": "execute_result"
    }
   ],
   "source": [
    "confusion_matrix(y_true=y_test, y_pred=lrcv.predict(X_test))"
   ]
  },
  {
   "cell_type": "code",
   "execution_count": 9,
   "id": "1dab85dd-3f3a-415a-82f9-a9792a872d71",
   "metadata": {},
   "outputs": [
    {
     "name": "stdout",
     "output_type": "stream",
     "text": [
      "              precision    recall  f1-score   support\n",
      "\n",
      "           0       1.00      1.00      1.00        21\n",
      "           1       0.88      0.97      0.92        30\n",
      "           2       0.95      0.83      0.89        24\n",
      "\n",
      "    accuracy                           0.93        75\n",
      "   macro avg       0.94      0.93      0.94        75\n",
      "weighted avg       0.94      0.93      0.93        75\n",
      "\n"
     ]
    }
   ],
   "source": [
    "print(classification_report(y_true=y_test, y_pred=lrcv.predict(X_test)))"
   ]
  },
  {
   "cell_type": "markdown",
   "id": "88f1808e-a496-4dc7-a1e9-db15e5423e35",
   "metadata": {},
   "source": [
    "#### 4.3 Support vector classifier"
   ]
  },
  {
   "cell_type": "code",
   "execution_count": 10,
   "id": "2bdcbd5a-6118-433b-87d1-f18865f1a5cb",
   "metadata": {},
   "outputs": [
    {
     "data": {
      "text/plain": [
       "0.9466666666666667"
      ]
     },
     "execution_count": 10,
     "metadata": {},
     "output_type": "execute_result"
    }
   ],
   "source": [
    "svc = SVC()\n",
    "svc.fit(X_train, y_train)\n",
    "svc.score(X_test, y_test)"
   ]
  },
  {
   "cell_type": "code",
   "execution_count": 11,
   "id": "4795d69b-8fce-4594-9233-94b08845226d",
   "metadata": {},
   "outputs": [
    {
     "data": {
      "text/plain": [
       "array([[21,  0,  0],\n",
       "       [ 0, 29,  1],\n",
       "       [ 0,  3, 21]], dtype=int64)"
      ]
     },
     "execution_count": 11,
     "metadata": {},
     "output_type": "execute_result"
    }
   ],
   "source": [
    "confusion_matrix(y_true=y_test, y_pred=svc.predict(X_test))"
   ]
  },
  {
   "cell_type": "code",
   "execution_count": 12,
   "id": "498d35a9-ea1b-4bb3-8a6a-d0342ed3747e",
   "metadata": {},
   "outputs": [
    {
     "name": "stdout",
     "output_type": "stream",
     "text": [
      "              precision    recall  f1-score   support\n",
      "\n",
      "           0       1.00      1.00      1.00        21\n",
      "           1       0.91      0.97      0.94        30\n",
      "           2       0.95      0.88      0.91        24\n",
      "\n",
      "    accuracy                           0.95        75\n",
      "   macro avg       0.95      0.95      0.95        75\n",
      "weighted avg       0.95      0.95      0.95        75\n",
      "\n"
     ]
    }
   ],
   "source": [
    "print(classification_report(y_true=y_test, y_pred=svc.predict(X_test)))"
   ]
  },
  {
   "cell_type": "markdown",
   "id": "11d5a039-9a49-4fd2-9464-b551d89a4550",
   "metadata": {},
   "source": [
    "Notes\n",
    "- Based on accuracry, the decision tree performs the best with a score of 96%\n",
    "- Based on f_1 score, the decision tree also perfoms the best with scores of 100%, 94%, and 95% for each of classes Setosa, Versicolour, and -Virginica respectively.\n",
    "- Conclusion: select the decision tree."
   ]
  },
  {
   "cell_type": "markdown",
   "id": "aaca10c8-b4ad-4883-b842-e6937267384b",
   "metadata": {},
   "source": [
    "### 5. Model Improvement"
   ]
  },
  {
   "cell_type": "code",
   "execution_count": 13,
   "id": "91470013-fb1c-4738-b8a5-89a02f06b3f3",
   "metadata": {},
   "outputs": [
    {
     "data": {
      "text/plain": [
       "{'ccp_alpha': 0.0,\n",
       " 'class_weight': None,\n",
       " 'criterion': 'gini',\n",
       " 'max_depth': None,\n",
       " 'max_features': None,\n",
       " 'max_leaf_nodes': None,\n",
       " 'min_impurity_decrease': 0.0,\n",
       " 'min_samples_leaf': 1,\n",
       " 'min_samples_split': 2,\n",
       " 'min_weight_fraction_leaf': 0.0,\n",
       " 'monotonic_cst': None,\n",
       " 'random_state': None,\n",
       " 'splitter': 'best'}"
      ]
     },
     "execution_count": 13,
     "metadata": {},
     "output_type": "execute_result"
    }
   ],
   "source": [
    "dtc.get_params()"
   ]
  },
  {
   "cell_type": "code",
   "execution_count": 14,
   "id": "fe2d7662-734d-4ff8-87f7-d9a0b024ec9e",
   "metadata": {},
   "outputs": [
    {
     "name": "stdout",
     "output_type": "stream",
     "text": [
      "Train score: 0.9600000000000002\n",
      "Test score: 0.9333333333333333\n",
      "Params: {'splitter': 'random', 'min_samples_split': 5, 'min_samples_leaf': 2, 'criterion': 'log_loss'}\n",
      "\n",
      "               precision    recall  f1-score   support\n",
      "\n",
      "           0       1.00      1.00      1.00        21\n",
      "           1       0.88      0.97      0.92        30\n",
      "           2       0.95      0.83      0.89        24\n",
      "\n",
      "    accuracy                           0.93        75\n",
      "   macro avg       0.94      0.93      0.94        75\n",
      "weighted avg       0.94      0.93      0.93        75\n",
      "\n"
     ]
    }
   ],
   "source": [
    "param_distributions = {'criterion':['gini','entropy','log_loss'],\n",
    "                       'splitter':['best','random'],\n",
    "                       'min_samples_leaf':[1,2,3,4,5],\n",
    "                       'min_samples_split':[2,3,4,5]}\n",
    "rscv = RandomizedSearchCV(estimator=dtc,\n",
    "                         param_distributions=param_distributions,\n",
    "                         n_jobs=2)\n",
    "rscv.fit(X_train, y_train)\n",
    "print('Train score:',rscv.best_score_)\n",
    "print('Test score:',rscv.score(X_test, y_test))\n",
    "print('Params:', rscv.best_params_)\n",
    "print('\\n', classification_report(y_true=y_test, y_pred=rscv.predict(X_test)))"
   ]
  },
  {
   "cell_type": "markdown",
   "id": "04900901-a69f-4506-aa8b-796cf4c16a8d",
   "metadata": {},
   "source": [
    "#### Conclusion; stick to the original decision tree as it has higher scores."
   ]
  }
 ],
 "metadata": {
  "kernelspec": {
   "display_name": "Python 3 (ipykernel)",
   "language": "python",
   "name": "python3"
  },
  "language_info": {
   "codemirror_mode": {
    "name": "ipython",
    "version": 3
   },
   "file_extension": ".py",
   "mimetype": "text/x-python",
   "name": "python",
   "nbconvert_exporter": "python",
   "pygments_lexer": "ipython3",
   "version": "3.12.4"
  }
 },
 "nbformat": 4,
 "nbformat_minor": 5
}
